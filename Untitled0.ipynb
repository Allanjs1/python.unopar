{
  "nbformat": 4,
  "nbformat_minor": 0,
  "metadata": {
    "colab": {
      "provenance": [],
      "authorship_tag": "ABX9TyPqmMI38w0rugNzIWyGCshA",
      "include_colab_link": true
    },
    "kernelspec": {
      "name": "python3",
      "display_name": "Python 3"
    },
    "language_info": {
      "name": "python"
    }
  },
  "cells": [
    {
      "cell_type": "markdown",
      "metadata": {
        "id": "view-in-github",
        "colab_type": "text"
      },
      "source": [
        "<a href=\"https://colab.research.google.com/github/Allanjs1/python.unopar/blob/main/Untitled0.ipynb\" target=\"_parent\"><img src=\"https://colab.research.google.com/assets/colab-badge.svg\" alt=\"Open In Colab\"/></a>"
      ]
    },
    {
      "cell_type": "code",
      "execution_count": null,
      "metadata": {
        "id": "kmwhjIEfrIol"
      },
      "outputs": [],
      "source": []
    },
    {
      "cell_type": "code",
      "source": [
        "import sqlite3\n",
        "\n",
        "# CREATE (Criação da tabela e inserção de dados de exemplo)\n",
        "\n",
        "conn = sqlite3.connect('contatos.db')\n",
        "\n",
        "cursor = conn.cursor()\n",
        "\n",
        "cursor.execute('''\n",
        "\n",
        "    CREATE TABLE IF NOT EXISTS Contatos (\n",
        "\n",
        "        id INTEGER PRIMARY KEY AUTOINCREMENT,\n",
        "\n",
        "        nome TEXT,\n",
        "\n",
        "        email TEXT,\n",
        "\n",
        "        telefone TEXT\n",
        "\n",
        "    )\n",
        "\n",
        "''')\n",
        "\n",
        "dados_exemplo = [\n",
        "\n",
        "    ('João', 'joao@email.com', '123-456-7890'),\n",
        "\n",
        "    ('Maria', 'maria@email.com', '987-654-3210'),\n",
        "\n",
        "    ('Carlos', 'carlos@email.com', '555-555-5555')\n",
        "\n",
        "]\n",
        "\n",
        "cursor.executemany('INSERT INTO Contatos (nome, email, telefone) VALUES (?, ?, ?)', dados_exemplo)\n",
        "\n",
        "conn.commit()\n",
        "\n",
        "# READ (Leitura e exibição dos contatos)\n",
        "\n",
        "cursor.execute('SELECT * FROM Contatos')\n",
        "\n",
        "contatos = cursor.fetchall()\n",
        "\n",
        "print(\"Contatos:\")\n",
        "\n",
        "for contato in contatos:\n",
        "\n",
        "    print(contato)\n",
        "\n",
        "# UPDATE (Atualização do número de telefone do contato com ID 2)\n",
        "\n",
        "novo_telefone = '999-999-9999'\n",
        "\n",
        "contato_id = 2\n",
        "\n",
        "\n",
        "\n",
        "cursor.execute('UPDATE Contatos SET telefone = ? WHERE id = ?', (novo_telefone, contato_id))\n",
        "\n",
        "conn.commit()\n",
        "\n",
        "# DELETE (Exclusão do contato com ID 1)\n",
        "\n",
        "contato_id_para_excluir = 1\n",
        "\n",
        "\n",
        "\n",
        "cursor.execute('DELETE FROM Contatos WHERE id = ?', (contato_id_para_excluir,))\n",
        "\n",
        "conn.commit()\n",
        "\n",
        "# Fechando a conexão\n",
        "\n",
        "conn.close()"
      ],
      "metadata": {
        "colab": {
          "base_uri": "https://localhost:8080/"
        },
        "id": "jdARBy9crLpA",
        "outputId": "328aac92-99d6-4a0e-d16e-327e4f9bec69"
      },
      "execution_count": null,
      "outputs": [
        {
          "output_type": "stream",
          "name": "stdout",
          "text": [
            "Contatos:\n",
            "(1, 'João', 'joao@email.com', '123-456-7890')\n",
            "(2, 'Maria', 'maria@email.com', '987-654-3210')\n",
            "(3, 'Carlos', 'carlos@email.com', '555-555-5555')\n"
          ]
        }
      ]
    },
    {
      "cell_type": "code",
      "source": [
        "import sqlite3\n",
        "\n",
        "# Conectando ao banco de dados\n",
        "\n",
        "conn = sqlite3.connect('exemplo.db')\n",
        "\n",
        "cursor = conn.cursor()\n",
        "\n",
        "# Dados do novo produto\n",
        "\n",
        "novo_produto = ('Camiseta', 19.99, 50)\n",
        "\n",
        "# Comando SQL para inserir o novo produto na tabela\n",
        "\n",
        "inserir_produto = \"INSERT INTO Produtos (nome, preco, estoque) VALUES (?, ?, ?)\"\n",
        "\n",
        "# Executando o comando SQL para inserção\n",
        "\n",
        "cursor.execute(inserir_produto, novo_produto)\n",
        "\n",
        "# Confirmando as alterações\n",
        "\n",
        "conn.commit()\n",
        "\n",
        "# Fechando a conexão\n",
        "\n",
        "conn.close()\n",
        "\n",
        "import sqlite3"
      ],
      "metadata": {
        "colab": {
          "base_uri": "https://localhost:8080/",
          "height": 219
        },
        "id": "ZU56RZZers7_",
        "outputId": "c9111b5e-8543-47d9-f7fa-63f4a5adf300"
      },
      "execution_count": null,
      "outputs": [
        {
          "output_type": "error",
          "ename": "OperationalError",
          "evalue": "no such table: Produtos",
          "traceback": [
            "\u001b[0;31m---------------------------------------------------------------------------\u001b[0m",
            "\u001b[0;31mOperationalError\u001b[0m                          Traceback (most recent call last)",
            "\u001b[0;32m<ipython-input-8-a5ba19194de3>\u001b[0m in \u001b[0;36m<cell line: 19>\u001b[0;34m()\u001b[0m\n\u001b[1;32m     17\u001b[0m \u001b[0;31m# Executando o comando SQL para inserção\u001b[0m\u001b[0;34m\u001b[0m\u001b[0;34m\u001b[0m\u001b[0m\n\u001b[1;32m     18\u001b[0m \u001b[0;34m\u001b[0m\u001b[0m\n\u001b[0;32m---> 19\u001b[0;31m \u001b[0mcursor\u001b[0m\u001b[0;34m.\u001b[0m\u001b[0mexecute\u001b[0m\u001b[0;34m(\u001b[0m\u001b[0minserir_produto\u001b[0m\u001b[0;34m,\u001b[0m \u001b[0mnovo_produto\u001b[0m\u001b[0;34m)\u001b[0m\u001b[0;34m\u001b[0m\u001b[0;34m\u001b[0m\u001b[0m\n\u001b[0m\u001b[1;32m     20\u001b[0m \u001b[0;34m\u001b[0m\u001b[0m\n\u001b[1;32m     21\u001b[0m \u001b[0;31m# Confirmando as alterações\u001b[0m\u001b[0;34m\u001b[0m\u001b[0;34m\u001b[0m\u001b[0m\n",
            "\u001b[0;31mOperationalError\u001b[0m: no such table: Produtos"
          ]
        }
      ]
    },
    {
      "cell_type": "markdown",
      "source": [],
      "metadata": {
        "id": "7myLmhZHrrxL"
      }
    }
  ]
}