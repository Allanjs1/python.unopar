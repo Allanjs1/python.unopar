{
  "nbformat": 4,
  "nbformat_minor": 0,
  "metadata": {
    "colab": {
      "provenance": [],
      "authorship_tag": "ABX9TyNLptSY9k+9LPhstjif7+Lz",
      "include_colab_link": true
    },
    "kernelspec": {
      "name": "python3",
      "display_name": "Python 3"
    },
    "language_info": {
      "name": "python"
    }
  },
  "cells": [
    {
      "cell_type": "markdown",
      "metadata": {
        "id": "view-in-github",
        "colab_type": "text"
      },
      "source": [
        "<a href=\"https://colab.research.google.com/github/Allanjs1/python.unopar/blob/main/Untitled4c.ipynb\" target=\"_parent\"><img src=\"https://colab.research.google.com/assets/colab-badge.svg\" alt=\"Open In Colab\"/></a>"
      ]
    },
    {
      "cell_type": "code",
      "execution_count": 11,
      "metadata": {
        "colab": {
          "base_uri": "https://localhost:8080/",
          "height": 508
        },
        "id": "4Aypw2URvVb-",
        "outputId": "a508ae33-18e7-4bcb-9a4e-70ffb98cc39a"
      },
      "outputs": [
        {
          "output_type": "stream",
          "name": "stdout",
          "text": [
            "\u001b[1m1/1\u001b[0m \u001b[32m━━━━━━━━━━━━━━━━━━━━\u001b[0m\u001b[37m\u001b[0m \u001b[1m0s\u001b[0m 38ms/step\n",
            "Predição: 9.999236\n"
          ]
        },
        {
          "output_type": "display_data",
          "data": {
            "text/plain": [
              "<Figure size 640x480 with 1 Axes>"
            ],
            "image/png": "[encoded data removed]"
          },
          "metadata": {}
        }
      ],
      "source": [
        "# Modelo Supervisionado\n",
        "\n",
        "import tensorflow as tf\n",
        "\n",
        "from tensorflow.keras.models import Sequential\n",
        "\n",
        "from tensorflow.keras.layers import Dense\n",
        "\n",
        "import matplotlib.pyplot as plt\n",
        "\n",
        "\n",
        "\n",
        "# Dados de exemplo\n",
        "\n",
        "X_train = tf.constant([[1.0], [2.0], [3.0], [4.0]])\n",
        "y_train = tf.constant([[2.0], [4.0], [6.0], [8.0]])\n",
        "\n",
        "\n",
        "\n",
        "# Modelo de Regressão Linear Simples\n",
        "\n",
        "model = Sequential()\n",
        "model.add(Dense(units=1, input_shape=(1,)))\n",
        "model.compile(optimizer='sgd', loss='mean_squared_error')\n",
        "\n",
        "\n",
        "history = model.fit(X_train, y_train, epochs=1000, verbose=0)\n",
        "\n",
        "\n",
        "# Treinamento do modelo\n",
        "\n",
        "model.fit(X_train, y_train, epochs=1000, verbose=0)\n",
        "\n",
        "\n",
        "\n",
        "# Previsão\n",
        "\n",
        "X_new = tf.constant([[5.0]])\n",
        "prediction = model.predict(X_new)\n",
        "print(\"Predição:\", prediction[0][0])\n",
        "\n",
        "\n",
        "plt.plot(history.history['loss'])\n",
        "plt.title('Model Loss over training')\n",
        "plt.xlabel('Epach')\n",
        "plt.ylabel('Loss')\n",
        "plt.show()"
      ]
    },
    {
      "cell_type": "code",
      "source": [],
      "metadata": {
        "id": "vXd_W1v13B3_"
      },
      "execution_count": null,
      "outputs": []
    },
    {
      "cell_type": "code",
      "source": [],
      "metadata": {
        "id": "q1_q1QN53CCN"
      },
      "execution_count": null,
      "outputs": []
    },
    {
      "cell_type": "code",
      "source": [
        "import tensorflow as tf\n",
        "\n",
        "from tensorflow.keras.layers import Input, Dense\n",
        "\n",
        "from tensorflow.keras.models import Model\n",
        "\n",
        "\n",
        "\n",
        "# Dados de exemplo\n",
        "\n",
        "X_unsupervised = tf.constant([[1.0, 2.0], [2.0, 3.0], [3.0, 4.0], [4.0, 5.0]])\n",
        "\n",
        "\n",
        "\n",
        "# Modelo Autoencoder Simples\n",
        "\n",
        "input_layer = Input(shape=(2,))\n",
        "\n",
        "encoded = Dense(units=1)(input_layer)\n",
        "\n",
        "decoded = Dense(units=2)(encoded)\n",
        "\n",
        "\n",
        "\n",
        "autoencoder = Model(inputs=input_layer, outputs=decoded)\n",
        "\n",
        "autoencoder.compile(optimizer='adam', loss='mean_squared_error')\n",
        "\n",
        "\n",
        "\n",
        "# Treinamento do modelo não supervisionado\n",
        "\n",
        "autoencoder.fit(X_unsupervised, X_unsupervised, epochs=1000, verbose=0)\n",
        "\n",
        "\n",
        "\n",
        "# Previsão\n",
        "\n",
        "prediction_unsupervised = autoencoder.predict(X_unsupervised)\n",
        "\n",
        "print(\"Predição Não Supervisionada:\", prediction_unsupervised)\n",
        "\n"
      ],
      "metadata": {
        "colab": {
          "base_uri": "https://localhost:8080/"
        },
        "id": "YPS1JfNk3CFj",
        "outputId": "c00867ce-7d84-448f-e95b-d947708e9150"
      },
      "execution_count": 13,
      "outputs": [
        {
          "output_type": "stream",
          "name": "stdout",
          "text": [
            "\u001b[1m1/1\u001b[0m \u001b[32m━━━━━━━━━━━━━━━━━━━━\u001b[0m\u001b[37m\u001b[0m \u001b[1m0s\u001b[0m 44ms/step\n",
            "Predição Não Supervisionada: [[1.5660024 1.9173802]\n",
            " [2.2343845 2.971963 ]\n",
            " [2.9027667 4.0265455]\n",
            " [3.5711489 5.0811286]]\n"
          ]
        }
      ]
    },
    {
      "cell_type": "code",
      "source": [],
      "metadata": {
        "id": "yBEySbOV3qUw"
      },
      "execution_count": null,
      "outputs": []
    },
    {
      "cell_type": "code",
      "source": [],
      "metadata": {
        "id": "wCKZgL9A3rEs"
      },
      "execution_count": null,
      "outputs": []
    },
    {
      "cell_type": "code",
      "source": [],
      "metadata": {
        "id": "L5ACVhKB3rHG"
      },
      "execution_count": null,
      "outputs": []
    },
    {
      "cell_type": "code",
      "source": [
        "import tensorflow as tf\n",
        "\n",
        "import gym\n",
        "\n",
        "\n",
        "\n",
        "# Ambiente CartPole do Gym\n",
        "\n",
        "env = gym.make('CartPole-v1')\n",
        "\n",
        "\n",
        "\n",
        "# Modelo Simples para Aprendizado por Reforço\n",
        "\n",
        "model_reinforcement = tf.keras.Sequential([\n",
        "\n",
        "    tf.keras.layers.Dense(24, activation='relu', input_shape=(env.observation_space.shape[0],)),\n",
        "\n",
        "    tf.keras.layers.Dense(env.action_space.n, activation='linear')\n",
        "\n",
        "])\n",
        "\n",
        "\n",
        "\n",
        "model_reinforcement.compile(optimizer=tf.keras.optimizers.Adam(learning_rate=0.001), loss='mse')\n",
        "\n",
        "\n",
        "\n",
        "# Treinamento por Reforço (exemplo fictício)\n",
        "\n",
        "max_episodes = 1000  # Defina o número máximo de episódios\n",
        "\n",
        "for episode in range(max_episodes):\n",
        "\n",
        "    state = env.reset()\n",
        "\n",
        "    done = False\n",
        "\n",
        "    while not done:\n",
        "\n",
        "        action = env.action_space.sample()\n",
        "\n",
        "        next_state, reward, done, _ = env.step(action)\n",
        "\n",
        "        target = reward + 0.95 * tf.reduce_max(model_reinforcement.predict(next_state.reshape(1, -1)))\n",
        "\n",
        "        target_f = model_reinforcement.predict(state.reshape(1, -1))\n",
        "\n",
        "        target_f[0][action] = target\n",
        "\n",
        "        model_reinforcement.fit(state.reshape(1, -1), target_f, epochs=1, verbose=0)\n",
        "\n",
        "        state = next_state\n",
        "\n",
        "\n",
        "\n",
        "    # Condição de parada\n",
        "\n",
        "    if episode % 10 == 0:\n",
        "\n",
        "        average_reward = sum(reward for _ in range(10)) / 10.0\n",
        "\n",
        "        print(f'Episode {episode}, Average Reward: {average_reward}')\n",
        "\n",
        "\n",
        "\n",
        "        # Adicionando uma condição de parada\n",
        "\n",
        "        if average_reward == 1:  # Pode ajustar esse valor conforme necessário\n",
        "\n",
        "            print(f'Solved after {episode} episodes!')\n",
        "\n",
        "            break\n",
        "\n",
        ""
      ],
      "metadata": {
        "colab": {
          "base_uri": "https://localhost:8080/"
        },
        "id": "-O3Lf5vI3rKd",
        "outputId": "8ef73ae5-9b2e-4f86-b55a-3ac0d2af68a4"
      },
      "execution_count": 14,
      "outputs": [
        {
          "output_type": "stream",
          "name": "stdout",
          "text": [
            "\u001b[1m1/1\u001b[0m \u001b[32m━━━━━━━━━━━━━━━━━━━━\u001b[0m\u001b[37m\u001b[0m \u001b[1m0s\u001b[0m 60ms/step\n"
          ]
        },
        {
          "output_type": "stream",
          "name": "stderr",
          "text": [
            "/usr/local/lib/python3.10/dist-packages/gym/core.py:317: DeprecationWarning: \u001b[33mWARN: Initializing wrapper in old step API which returns one bool instead of two. It is recommended to set `new_step_api=True` to use new step API. This will be the default behaviour in future.\u001b[0m\n",
            "  deprecation(\n",
            "/usr/local/lib/python3.10/dist-packages/gym/wrappers/step_api_compatibility.py:39: DeprecationWarning: \u001b[33mWARN: Initializing environment in old step API which returns one bool instead of two. It is recommended to set `new_step_api=True` to use new step API. This will be the default behaviour in future.\u001b[0m\n",
            "  deprecation(\n",
            "/usr/local/lib/python3.10/dist-packages/keras/src/layers/core/dense.py:87: UserWarning: Do not pass an `input_shape`/`input_dim` argument to a layer. When using Sequential models, prefer using an `Input(shape)` object as the first layer in the model instead.\n",
            "  super().__init__(activity_regularizer=activity_regularizer, **kwargs)\n",
            "/usr/local/lib/python3.10/dist-packages/gym/utils/passive_env_checker.py:241: DeprecationWarning: `np.bool8` is a deprecated alias for `np.bool_`.  (Deprecated NumPy 1.24)\n",
            "  if not isinstance(terminated, (bool, np.bool8)):\n"
          ]
        },
        {
          "output_type": "stream",
          "name": "stdout",
          "text": [
            "\u001b[1m1/1\u001b[0m \u001b[32m━━━━━━━━━━━━━━━━━━━━\u001b[0m\u001b[37m\u001b[0m \u001b[1m0s\u001b[0m 19ms/step\n",
            "\u001b[1m1/1\u001b[0m \u001b[32m━━━━━━━━━━━━━━━━━━━━\u001b[0m\u001b[37m\u001b[0m \u001b[1m0s\u001b[0m 21ms/step\n",
            "\u001b[1m1/1\u001b[0m \u001b[32m━━━━━━━━━━━━━━━━━━━━\u001b[0m\u001b[37m\u001b[0m \u001b[1m0s\u001b[0m 19ms/step\n",
            "\u001b[1m1/1\u001b[0m \u001b[32m━━━━━━━━━━━━━━━━━━━━\u001b[0m\u001b[37m\u001b[0m \u001b[1m0s\u001b[0m 21ms/step\n",
            "\u001b[1m1/1\u001b[0m \u001b[32m━━━━━━━━━━━━━━━━━━━━\u001b[0m\u001b[37m\u001b[0m \u001b[1m0s\u001b[0m 18ms/step\n",
            "\u001b[1m1/1\u001b[0m \u001b[32m━━━━━━━━━━━━━━━━━━━━\u001b[0m\u001b[37m\u001b[0m \u001b[1m0s\u001b[0m 20ms/step\n",
            "\u001b[1m1/1\u001b[0m \u001b[32m━━━━━━━━━━━━━━━━━━━━\u001b[0m\u001b[37m\u001b[0m \u001b[1m0s\u001b[0m 19ms/step\n",
            "\u001b[1m1/1\u001b[0m \u001b[32m━━━━━━━━━━━━━━━━━━━━\u001b[0m\u001b[37m\u001b[0m \u001b[1m0s\u001b[0m 19ms/step\n",
            "\u001b[1m1/1\u001b[0m \u001b[32m━━━━━━━━━━━━━━━━━━━━\u001b[0m\u001b[37m\u001b[0m \u001b[1m0s\u001b[0m 19ms/step\n",
            "\u001b[1m1/1\u001b[0m \u001b[32m━━━━━━━━━━━━━━━━━━━━\u001b[0m\u001b[37m\u001b[0m \u001b[1m0s\u001b[0m 33ms/step\n",
            "\u001b[1m1/1\u001b[0m \u001b[32m━━━━━━━━━━━━━━━━━━━━\u001b[0m\u001b[37m\u001b[0m \u001b[1m0s\u001b[0m 22ms/step\n",
            "\u001b[1m1/1\u001b[0m \u001b[32m━━━━━━━━━━━━━━━━━━━━\u001b[0m\u001b[37m\u001b[0m \u001b[1m0s\u001b[0m 20ms/step\n",
            "\u001b[1m1/1\u001b[0m \u001b[32m━━━━━━━━━━━━━━━━━━━━\u001b[0m\u001b[37m\u001b[0m \u001b[1m0s\u001b[0m 19ms/step\n",
            "\u001b[1m1/1\u001b[0m \u001b[32m━━━━━━━━━━━━━━━━━━━━\u001b[0m\u001b[37m\u001b[0m \u001b[1m0s\u001b[0m 22ms/step\n",
            "\u001b[1m1/1\u001b[0m \u001b[32m━━━━━━━━━━━━━━━━━━━━\u001b[0m\u001b[37m\u001b[0m \u001b[1m0s\u001b[0m 21ms/step\n",
            "\u001b[1m1/1\u001b[0m \u001b[32m━━━━━━━━━━━━━━━━━━━━\u001b[0m\u001b[37m\u001b[0m \u001b[1m0s\u001b[0m 22ms/step\n",
            "\u001b[1m1/1\u001b[0m \u001b[32m━━━━━━━━━━━━━━━━━━━━\u001b[0m\u001b[37m\u001b[0m \u001b[1m0s\u001b[0m 20ms/step\n",
            "\u001b[1m1/1\u001b[0m \u001b[32m━━━━━━━━━━━━━━━━━━━━\u001b[0m\u001b[37m\u001b[0m \u001b[1m0s\u001b[0m 19ms/step\n",
            "\u001b[1m1/1\u001b[0m \u001b[32m━━━━━━━━━━━━━━━━━━━━\u001b[0m\u001b[37m\u001b[0m \u001b[1m0s\u001b[0m 22ms/step\n",
            "\u001b[1m1/1\u001b[0m \u001b[32m━━━━━━━━━━━━━━━━━━━━\u001b[0m\u001b[37m\u001b[0m \u001b[1m0s\u001b[0m 20ms/step\n",
            "\u001b[1m1/1\u001b[0m \u001b[32m━━━━━━━━━━━━━━━━━━━━\u001b[0m\u001b[37m\u001b[0m \u001b[1m0s\u001b[0m 19ms/step\n",
            "\u001b[1m1/1\u001b[0m \u001b[32m━━━━━━━━━━━━━━━━━━━━\u001b[0m\u001b[37m\u001b[0m \u001b[1m0s\u001b[0m 21ms/step\n",
            "\u001b[1m1/1\u001b[0m \u001b[32m━━━━━━━━━━━━━━━━━━━━\u001b[0m\u001b[37m\u001b[0m \u001b[1m0s\u001b[0m 19ms/step\n",
            "\u001b[1m1/1\u001b[0m \u001b[32m━━━━━━━━━━━━━━━━━━━━\u001b[0m\u001b[37m\u001b[0m \u001b[1m0s\u001b[0m 20ms/step\n",
            "\u001b[1m1/1\u001b[0m \u001b[32m━━━━━━━━━━━━━━━━━━━━\u001b[0m\u001b[37m\u001b[0m \u001b[1m0s\u001b[0m 20ms/step\n",
            "\u001b[1m1/1\u001b[0m \u001b[32m━━━━━━━━━━━━━━━━━━━━\u001b[0m\u001b[37m\u001b[0m \u001b[1m0s\u001b[0m 26ms/step\n",
            "\u001b[1m1/1\u001b[0m \u001b[32m━━━━━━━━━━━━━━━━━━━━\u001b[0m\u001b[37m\u001b[0m \u001b[1m0s\u001b[0m 21ms/step\n",
            "\u001b[1m1/1\u001b[0m \u001b[32m━━━━━━━━━━━━━━━━━━━━\u001b[0m\u001b[37m\u001b[0m \u001b[1m0s\u001b[0m 20ms/step\n",
            "\u001b[1m1/1\u001b[0m \u001b[32m━━━━━━━━━━━━━━━━━━━━\u001b[0m\u001b[37m\u001b[0m \u001b[1m0s\u001b[0m 22ms/step\n",
            "\u001b[1m1/1\u001b[0m \u001b[32m━━━━━━━━━━━━━━━━━━━━\u001b[0m\u001b[37m\u001b[0m \u001b[1m0s\u001b[0m 19ms/step\n",
            "\u001b[1m1/1\u001b[0m \u001b[32m━━━━━━━━━━━━━━━━━━━━\u001b[0m\u001b[37m\u001b[0m \u001b[1m0s\u001b[0m 20ms/step\n",
            "\u001b[1m1/1\u001b[0m \u001b[32m━━━━━━━━━━━━━━━━━━━━\u001b[0m\u001b[37m\u001b[0m \u001b[1m0s\u001b[0m 21ms/step\n",
            "\u001b[1m1/1\u001b[0m \u001b[32m━━━━━━━━━━━━━━━━━━━━\u001b[0m\u001b[37m\u001b[0m \u001b[1m0s\u001b[0m 23ms/step\n",
            "Episode 0, Average Reward: 1.0\n",
            "Solved after 0 episodes!\n"
          ]
        }
      ]
    },
    {
      "cell_type": "code",
      "source": [],
      "metadata": {
        "id": "OlNYd-Qs4QrP"
      },
      "execution_count": null,
      "outputs": []
    },
    {
      "cell_type": "code",
      "source": [],
      "metadata": {
        "id": "HzmaI38P4Qtn"
      },
      "execution_count": null,
      "outputs": []
    },
    {
      "cell_type": "code",
      "source": [
        "import numpy as np\n",
        "\n",
        "import pandas as pd\n",
        "\n",
        "import matplotlib.pyplot as plt\n",
        "\n",
        "from sklearn.model_selection import train_test_split\n",
        "\n",
        "from sklearn.preprocessing import MinMaxScaler\n",
        "\n",
        "import tensorflow as tf\n",
        "\n",
        "\n",
        "\n",
        "# Crie dados fictícios de vendas ao longo do tempo\n",
        "\n",
        "np.random.seed(42)\n",
        "\n",
        "meses = np.arange(1, 13)\n",
        "\n",
        "vendas = np.array([200, 220, 250, 280, 300, 320, 350, 380, 400, 420, 450, 480])\n",
        "\n",
        "\n",
        "\n",
        "# Crie um DataFrame\n",
        "\n",
        "dados = pd.DataFrame({'Mes': meses, 'Vendas': vendas})\n",
        "\n",
        "\n",
        "\n",
        "# Visualize os dados\n",
        "\n",
        "plt.scatter(dados['Mes'], dados['Vendas'])\n",
        "\n",
        "plt.xlabel('Mês')\n",
        "\n",
        "plt.ylabel('Vendas')\n",
        "\n",
        "plt.title('Dados de Vendas ao Longo do Tempo')\n",
        "\n",
        "plt.show()\n",
        "\n",
        "\n",
        "\n",
        "# Normalização dos dados de treinamento\n",
        "\n",
        "scaler = MinMaxScaler()\n",
        "\n",
        "X_train_scaled = scaler.fit_transform(X_train)\n",
        "\n",
        "X_test_scaled = scaler.transform(X_test)\n",
        "\n",
        "\n",
        "\n",
        "# Divida os dados em conjunto de treinamento e teste\n",
        "\n",
        "X = dados[['Mes']]\n",
        "\n",
        "y = dados['Vendas']\n",
        "\n",
        "X_train, X_test, y_train, y_test = train_test_split(X, y, test_size=0.2, random_state=42)\n",
        "\n",
        "\n",
        "\n",
        "# Crie e treine o modelo de regressão linear usando TensorFlow\n",
        "\n",
        "model = tf.keras.Sequential([\n",
        "\n",
        "    tf.keras.layers.Input(shape=(1,)),  # Camada de entrada\n",
        "\n",
        "    tf.keras.layers.Dense(units=8, activation='relu'),  # Camada escondida com ativação ReLU\n",
        "\n",
        "    tf.keras.layers.Dense(units=1)  # Camada de saída\n",
        "\n",
        "])\n",
        "\n",
        "\n",
        "\n",
        "model.compile(optimizer='adam', loss='mean_squared_error')\n",
        "\n",
        "\n",
        "\n",
        "# Treine o modelo por mais épocas\n",
        "\n",
        "model.fit(X_train, y_train, epochs=500, verbose=0)\n",
        "\n",
        "\n",
        "\n",
        "# Faça previsões no conjunto de teste\n",
        "\n",
        "predictions = model.predict(X_test)\n",
        "\n",
        "\n",
        "\n",
        "# Desfaça a normalização para avaliar o desempenho\n",
        "\n",
        "min_sales = dados['Vendas'].min()\n",
        "\n",
        "max_sales = dados['Vendas'].max()\n",
        "\n",
        "\n",
        "\n",
        "predictions_inverse = predictions * (max_sales - min_sales) + min_sales\n",
        "\n",
        "y_test_inverse = y_test * (max_sales - min_sales) + min_sales\n",
        "\n",
        "\n",
        "\n",
        "# Visualize as previsões em relação aos dados reais\n",
        "\n",
        "plt.scatter(X_test, y_test_inverse, label='Dados Reais')\n",
        "\n",
        "plt.plot(X_test, predictions_inverse, color='red', label='Previsões')\n",
        "\n",
        "plt.xlabel('Mês')\n",
        "\n",
        "plt.ylabel('Vendas')\n",
        "\n",
        "plt.title('Previsões de Vendas com Regressão Linear (TensorFlow)')\n",
        "\n",
        "plt.legend()\n",
        "\n",
        "plt.show()\n",
        "\n",
        "\n",
        "\n",
        "# Avalie o desempenho do modelo\n",
        "\n",
        "erro_mse = mean_squared_error(y_test_inverse, predictions_inverse)\n",
        "print(f'Erro Médio Quadrático (MSE): {erro_mse:.2f}')\n",
        "\n",
        "\n",
        "\n",
        "# Faça uma previsão para o próximo mês\n",
        "\n",
        "proximo_mes_scaled = scaler.transform(np.array([[13]]))\n",
        "\n",
        "previsao_proximo_mes_scaled = model.predict(proximo_mes_scaled)\n",
        "\n",
        "previsao_proximo_mes = scaler.inverse_transform(previsao_proximo_mes_scaled)[0, 0]\n",
        "\n",
        "print(f'Previsão de Vendas para o Próximo Mês: {previsao_proximo_mes:.2f}')"
      ],
      "metadata": {
        "colab": {
          "base_uri": "https://localhost:8080/",
          "height": 674
        },
        "id": "mpkp1Xiz4QxG",
        "outputId": "b2552ba5-dd59-428c-f3bd-e3b632bfa29a"
      },
      "execution_count": 21,
      "outputs": [
        {
          "output_type": "display_data",
          "data": {
            "text/plain": [
              "<Figure size 640x480 with 1 Axes>"
            ],
            "image/png": "[encoded data removed]"
          },
          "metadata": {}
        },
        {
          "output_type": "error",
          "ename": "NameError",
          "evalue": "name 'X_test' is not defined",
          "traceback": [
            "\u001b[0;31m---------------------------------------------------------------------------\u001b[0m",
            "\u001b[0;31mNameError\u001b[0m                                 Traceback (most recent call last)",
            "\u001b[0;32m<ipython-input-21-ce771e1fe70d>\u001b[0m in \u001b[0;36m<cell line: 51>\u001b[0;34m()\u001b[0m\n\u001b[1;32m     49\u001b[0m \u001b[0mX_train_scaled\u001b[0m \u001b[0;34m=\u001b[0m \u001b[0mscaler\u001b[0m\u001b[0;34m.\u001b[0m\u001b[0mfit_transform\u001b[0m\u001b[0;34m(\u001b[0m\u001b[0mX_train\u001b[0m\u001b[0;34m)\u001b[0m\u001b[0;34m\u001b[0m\u001b[0;34m\u001b[0m\u001b[0m\n\u001b[1;32m     50\u001b[0m \u001b[0;34m\u001b[0m\u001b[0m\n\u001b[0;32m---> 51\u001b[0;31m \u001b[0mX_test_scaled\u001b[0m \u001b[0;34m=\u001b[0m \u001b[0mscaler\u001b[0m\u001b[0;34m.\u001b[0m\u001b[0mtransform\u001b[0m\u001b[0;34m(\u001b[0m\u001b[0mX_test\u001b[0m\u001b[0;34m)\u001b[0m\u001b[0;34m\u001b[0m\u001b[0;34m\u001b[0m\u001b[0m\n\u001b[0m\u001b[1;32m     52\u001b[0m \u001b[0;34m\u001b[0m\u001b[0m\n\u001b[1;32m     53\u001b[0m \u001b[0;34m\u001b[0m\u001b[0m\n",
            "\u001b[0;31mNameError\u001b[0m: name 'X_test' is not defined"
          ]
        }
      ]
    },
    {
      "cell_type": "code",
      "source": [],
      "metadata": {
        "id": "EQMVEQhoBrs7"
      },
      "execution_count": null,
      "outputs": []
    },
    {
      "cell_type": "code",
      "source": [],
      "metadata": {
        "id": "oan3Wo7xBr6M"
      },
      "execution_count": null,
      "outputs": []
    },
    {
      "cell_type": "code",
      "source": [
        "import tensorflow as tf\n",
        "\n",
        "mnist = tf.keras.datasets.mnist\n",
        "\n",
        "\n",
        "\n",
        "(x_train, y_train),(x_test, y_test) = mnist.load_data()\n",
        "\n",
        "x_train, x_test = x_train / 255.0, x_test / 255.0\n",
        "\n",
        "\n",
        "\n",
        "model = tf.keras.models.Sequential([\n",
        "\n",
        "  tf.keras.layers.Flatten(input_shape=(28, 28)),\n",
        "\n",
        "  tf.keras.layers.Dense(128, activation='relu'),\n",
        "\n",
        "  tf.keras.layers.Dropout(0.2),\n",
        "\n",
        "  tf.keras.layers.Dense(10, activation='softmax')\n",
        "\n",
        "])\n",
        "\n",
        "\n",
        "\n",
        "model.compile(optimizer='adam',\n",
        "\n",
        "              loss='sparse_categorical_crossentropy',\n",
        "\n",
        "              metrics=['accuracy'])\n",
        "\n",
        "\n",
        "\n",
        "model.fit(x_train, y_train, epochs=5)\n",
        "\n",
        "model.evaluate(x_test, y_test)"
      ],
      "metadata": {
        "colab": {
          "base_uri": "https://localhost:8080/"
        },
        "id": "R-nt68epBr8p",
        "outputId": "3432da5f-7f44-4d24-df96-c2d359393176"
      },
      "execution_count": 22,
      "outputs": [
        {
          "output_type": "stream",
          "name": "stdout",
          "text": [
            "Downloading data from https://storage.googleapis.com/tensorflow/tf-keras-datasets/mnist.npz\n",
            "\u001b[1m11490434/11490434\u001b[0m \u001b[32m━━━━━━━━━━━━━━━━━━━━\u001b[0m\u001b[37m\u001b[0m \u001b[1m0s\u001b[0m 0us/step\n"
          ]
        },
        {
          "output_type": "stream",
          "name": "stderr",
          "text": [
            "/usr/local/lib/python3.10/dist-packages/keras/src/layers/reshaping/flatten.py:37: UserWarning: Do not pass an `input_shape`/`input_dim` argument to a layer. When using Sequential models, prefer using an `Input(shape)` object as the first layer in the model instead.\n",
            "  super().__init__(**kwargs)\n"
          ]
        },
        {
          "output_type": "stream",
          "name": "stdout",
          "text": [
            "Epoch 1/5\n",
            "\u001b[1m1875/1875\u001b[0m \u001b[32m━━━━━━━━━━━━━━━━━━━━\u001b[0m\u001b[37m\u001b[0m \u001b[1m8s\u001b[0m 4ms/step - accuracy: 0.8586 - loss: 0.4777\n",
            "Epoch 2/5\n",
            "\u001b[1m1875/1875\u001b[0m \u001b[32m━━━━━━━━━━━━━━━━━━━━\u001b[0m\u001b[37m\u001b[0m \u001b[1m8s\u001b[0m 4ms/step - accuracy: 0.9570 - loss: 0.1456\n",
            "Epoch 3/5\n",
            "\u001b[1m1875/1875\u001b[0m \u001b[32m━━━━━━━━━━━━━━━━━━━━\u001b[0m\u001b[37m\u001b[0m \u001b[1m10s\u001b[0m 4ms/step - accuracy: 0.9672 - loss: 0.1070\n",
            "Epoch 4/5\n",
            "\u001b[1m1875/1875\u001b[0m \u001b[32m━━━━━━━━━━━━━━━━━━━━\u001b[0m\u001b[37m\u001b[0m \u001b[1m6s\u001b[0m 3ms/step - accuracy: 0.9731 - loss: 0.0863\n",
            "Epoch 5/5\n",
            "\u001b[1m1875/1875\u001b[0m \u001b[32m━━━━━━━━━━━━━━━━━━━━\u001b[0m\u001b[37m\u001b[0m \u001b[1m7s\u001b[0m 4ms/step - accuracy: 0.9785 - loss: 0.0706\n",
            "\u001b[1m313/313\u001b[0m \u001b[32m━━━━━━━━━━━━━━━━━━━━\u001b[0m\u001b[37m\u001b[0m \u001b[1m1s\u001b[0m 2ms/step - accuracy: 0.9729 - loss: 0.0915\n"
          ]
        },
        {
          "output_type": "execute_result",
          "data": {
            "text/plain": [
              "[0.07517062872648239, 0.9779999852180481]"
            ]
          },
          "metadata": {},
          "execution_count": 22
        }
      ]
    }
  ]
}