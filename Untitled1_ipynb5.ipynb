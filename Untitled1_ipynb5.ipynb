{
  "nbformat": 4,
  "nbformat_minor": 0,
  "metadata": {
    "colab": {
      "provenance": [],
      "authorship_tag": "ABX9TyMGDIvQPjc4xGU1MhBhYbMJ",
      "include_colab_link": true
    },
    "kernelspec": {
      "name": "python3",
      "display_name": "Python 3"
    },
    "language_info": {
      "name": "python"
    }
  },
  "cells": [
    {
      "cell_type": "markdown",
      "metadata": {
        "id": "view-in-github",
        "colab_type": "text"
      },
      "source": [
        "<a href=\"https://colab.research.google.com/github/Allanjs1/python.unopar/blob/main/Untitled1_ipynb5.ipynb\" target=\"_parent\"><img src=\"https://colab.research.google.com/assets/colab-badge.svg\" alt=\"Open In Colab\"/></a>"
      ]
    },
    {
      "cell_type": "code",
      "execution_count": 2,
      "metadata": {
        "id": "A6gTebcIi3n3"
      },
      "outputs": [],
      "source": [
        "import sqlite3\n",
        "\n",
        "# Passo 1: Conectar ao banco de dados SQLite (ou criá-lo, se não existir)\n",
        "\n",
        "conn = sqlite3.connect(\"funcionarios.db\")"
      ]
    },
    {
      "cell_type": "code",
      "source": [
        "# Passo 2: Criar a tabela de funcionários\n",
        "\n",
        "cursor = conn.cursor()\n",
        "\n",
        "cursor.execute('''\n",
        "\n",
        "    CREATE TABLE IF NOT EXISTS funcionarios (\n",
        "\n",
        "        id INTEGER PRIMARY KEY,\n",
        "\n",
        "        nome TEXT,\n",
        "\n",
        "        cargo TEXT,\n",
        "\n",
        "        salario REAL\n",
        "\n",
        "    )\n",
        "\n",
        "''')"
      ],
      "metadata": {
        "colab": {
          "base_uri": "https://localhost:8080/"
        },
        "id": "Lo3UohBynvL7",
        "outputId": "81737f01-63fb-4b4c-9e09-4299975463ff"
      },
      "execution_count": 3,
      "outputs": [
        {
          "output_type": "execute_result",
          "data": {
            "text/plain": [
              "<sqlite3.Cursor at 0x79e794300840>"
            ]
          },
          "metadata": {},
          "execution_count": 3
        }
      ]
    },
    {
      "cell_type": "code",
      "source": [
        "# Passo 3: Inserir um novo funcionário na tabela\n",
        "\n",
        "novo_funcionario = (2, \"Ana\", \"Inspetora\", 7000.00)\n",
        "\n",
        "cursor.execute(\"INSERT INTO funcionarios VALUES (?, ?, ?, ?)\", novo_funcionario)\n",
        "\n",
        "conn.commit()"
      ],
      "metadata": {
        "id": "N5sHL1_Zn9ba"
      },
      "execution_count": 9,
      "outputs": []
    },
    {
      "cell_type": "code",
      "source": [
        "# Passo 4: Consultar e exibir funcionários\n",
        "\n",
        "cursor.execute(\"SELECT * FROM funcionarios\")\n",
        "\n",
        "funcionarios = cursor.fetchall()\n",
        "\n",
        "print(\"Funcionários Cadastrados:\")\n",
        "\n",
        "for funcionario in funcionarios:\n",
        "\n",
        "    print(funcionario)"
      ],
      "metadata": {
        "colab": {
          "base_uri": "https://localhost:8080/"
        },
        "id": "_f1An3VLozQw",
        "outputId": "444ddeed-5c89-4ff3-b40b-4839eff3a224"
      },
      "execution_count": 12,
      "outputs": [
        {
          "output_type": "stream",
          "name": "stdout",
          "text": [
            "Funcionários Cadastrados:\n",
            "(1, 'João Silva', 'Analista', 5500.0)\n"
          ]
        }
      ]
    },
    {
      "cell_type": "code",
      "source": [
        "# Passo 5: Atualizar informações de um funcionário\n",
        "\n",
        "atualizacao = (\"João Silva\", 5500.00, 1)\n",
        "\n",
        "cursor.execute(\"UPDATE funcionarios SET nome = ?, salario = ? WHERE id = ?\", atualizacao)\n",
        "\n",
        "conn.commit()"
      ],
      "metadata": {
        "id": "7Puj73zLpptu"
      },
      "execution_count": 7,
      "outputs": []
    },
    {
      "cell_type": "code",
      "source": [
        "# Passo 6: Deletar um funcionário da tabela\n",
        "\n",
        "id_funcionario_para_deletar = 2\n",
        "\n",
        "cursor.execute(\"DELETE FROM funcionarios WHERE id = ?\", (id_funcionario_para_deletar,))\n",
        "\n",
        "conn.commit()"
      ],
      "metadata": {
        "id": "inKWfLRIqa22"
      },
      "execution_count": 11,
      "outputs": []
    }
  ]
}