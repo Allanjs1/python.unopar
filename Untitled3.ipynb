{
  "nbformat": 4,
  "nbformat_minor": 0,
  "metadata": {
    "colab": {
      "provenance": [],
      "authorship_tag": "ABX9TyPad+hJLT1rx3VaG2FGkw15",
      "include_colab_link": true
    },
    "kernelspec": {
      "name": "python3",
      "display_name": "Python 3"
    },
    "language_info": {
      "name": "python"
    }
  },
  "cells": [
    {
      "cell_type": "markdown",
      "metadata": {
        "id": "view-in-github",
        "colab_type": "text"
      },
      "source": [
        "<a href=\"https://colab.research.google.com/github/Allanjs1/python.unopar/blob/main/Untitled3.ipynb\" target=\"_parent\"><img src=\"https://colab.research.google.com/assets/colab-badge.svg\" alt=\"Open In Colab\"/></a>"
      ]
    },
    {
      "cell_type": "code",
      "execution_count": null,
      "metadata": {
        "colab": {
          "base_uri": "https://localhost:8080/"
        },
        "id": "gnEy3ydLjhOl",
        "outputId": "238afc38-4e67-460e-911b-51e24dba64b8"
      },
      "outputs": [
        {
          "output_type": "stream",
          "name": "stdout",
          "text": [
            "3.0\n"
          ]
        }
      ],
      "source": [
        "def divide(x, y):\n",
        "  assert y != 0, \"Divisão por zero\"\n",
        "  return x / y\n",
        "\n",
        "result = divide(6, 2)\n",
        "print(result)"
      ]
    },
    {
      "cell_type": "code",
      "source": [
        "def calcular_media(notas):\n",
        "  assert len(notas) > 0, \"A lista de notas não pode estar vazia\"\n",
        "\n",
        "  soma = sum(notas)\n",
        "  media = soma / len(notas)\n",
        "  return media"
      ],
      "metadata": {
        "id": "aHYhaBJ6mIAO"
      },
      "execution_count": null,
      "outputs": []
    },
    {
      "cell_type": "code",
      "source": [
        "# Exemplo 1: Lista de notas vazia\n",
        "notas_vazias = []\n",
        "media = calcular_media(notas_vazias) #Isso lançará uma AssertionError"
      ],
      "metadata": {
        "colab": {
          "base_uri": "https://localhost:8080/",
          "height": 311
        },
        "id": "SrLfSy8-mjdi",
        "outputId": "193372ae-d699-43f8-a03e-414c008eadbd"
      },
      "execution_count": null,
      "outputs": [
        {
          "output_type": "error",
          "ename": "AssertionError",
          "evalue": "A lista de notas não pode estar vazia",
          "traceback": [
            "\u001b[0;31m---------------------------------------------------------------------------\u001b[0m",
            "\u001b[0;31mAssertionError\u001b[0m                            Traceback (most recent call last)",
            "\u001b[0;32m<ipython-input-11-78888a6ce18d>\u001b[0m in \u001b[0;36m<cell line: 3>\u001b[0;34m()\u001b[0m\n\u001b[1;32m      1\u001b[0m \u001b[0;31m# Exemplo 1: Lista de notas vazia\u001b[0m\u001b[0;34m\u001b[0m\u001b[0;34m\u001b[0m\u001b[0m\n\u001b[1;32m      2\u001b[0m \u001b[0mnotas_vazias\u001b[0m \u001b[0;34m=\u001b[0m \u001b[0;34m[\u001b[0m\u001b[0;34m]\u001b[0m\u001b[0;34m\u001b[0m\u001b[0;34m\u001b[0m\u001b[0m\n\u001b[0;32m----> 3\u001b[0;31m \u001b[0mmedia\u001b[0m \u001b[0;34m=\u001b[0m \u001b[0mcalcular_media\u001b[0m\u001b[0;34m(\u001b[0m\u001b[0mnotas_vazias\u001b[0m\u001b[0;34m)\u001b[0m \u001b[0;31m#Isso lançará uma AssertionError\u001b[0m\u001b[0;34m\u001b[0m\u001b[0;34m\u001b[0m\u001b[0m\n\u001b[0m",
            "\u001b[0;32m<ipython-input-9-a45a327f2c52>\u001b[0m in \u001b[0;36mcalcular_media\u001b[0;34m(notas)\u001b[0m\n\u001b[1;32m      1\u001b[0m \u001b[0;32mdef\u001b[0m \u001b[0mcalcular_media\u001b[0m\u001b[0;34m(\u001b[0m\u001b[0mnotas\u001b[0m\u001b[0;34m)\u001b[0m\u001b[0;34m:\u001b[0m\u001b[0;34m\u001b[0m\u001b[0;34m\u001b[0m\u001b[0m\n\u001b[0;32m----> 2\u001b[0;31m   \u001b[0;32massert\u001b[0m \u001b[0mlen\u001b[0m\u001b[0;34m(\u001b[0m\u001b[0mnotas\u001b[0m\u001b[0;34m)\u001b[0m \u001b[0;34m>\u001b[0m \u001b[0;36m0\u001b[0m\u001b[0;34m,\u001b[0m \u001b[0;34m\"A lista de notas não pode estar vazia\"\u001b[0m\u001b[0;34m\u001b[0m\u001b[0;34m\u001b[0m\u001b[0m\n\u001b[0m\u001b[1;32m      3\u001b[0m \u001b[0;34m\u001b[0m\u001b[0m\n\u001b[1;32m      4\u001b[0m   \u001b[0msoma\u001b[0m \u001b[0;34m=\u001b[0m \u001b[0msum\u001b[0m\u001b[0;34m(\u001b[0m\u001b[0mnotas\u001b[0m\u001b[0;34m)\u001b[0m\u001b[0;34m\u001b[0m\u001b[0;34m\u001b[0m\u001b[0m\n\u001b[1;32m      5\u001b[0m   \u001b[0mmedia\u001b[0m \u001b[0;34m=\u001b[0m \u001b[0msoma\u001b[0m \u001b[0;34m/\u001b[0m \u001b[0mlen\u001b[0m\u001b[0;34m(\u001b[0m\u001b[0mnotas\u001b[0m\u001b[0;34m)\u001b[0m\u001b[0;34m\u001b[0m\u001b[0;34m\u001b[0m\u001b[0m\n",
            "\u001b[0;31mAssertionError\u001b[0m: A lista de notas não pode estar vazia"
          ]
        }
      ]
    },
    {
      "cell_type": "code",
      "source": [
        "# Exemplo 2: Lista de notas válida\n",
        "notas_validas = [8, 7, 9, 6, 8]\n",
        "media = calcular_media(notas_validas) #Isso funcionará corretamente\n",
        "print(media)"
      ],
      "metadata": {
        "colab": {
          "base_uri": "https://localhost:8080/"
        },
        "id": "Mx98aUAjm8bh",
        "outputId": "5718c40c-999e-4bd8-e73c-b4376bb8565d"
      },
      "execution_count": null,
      "outputs": [
        {
          "output_type": "stream",
          "name": "stdout",
          "text": [
            "7.6\n"
          ]
        }
      ]
    },
    {
      "cell_type": "code",
      "source": [],
      "metadata": {
        "id": "JoQwZVjanzSZ"
      },
      "execution_count": null,
      "outputs": []
    },
    {
      "cell_type": "code",
      "source": [],
      "metadata": {
        "id": "Y9yVln5PsAqx"
      },
      "execution_count": null,
      "outputs": []
    },
    {
      "cell_type": "code",
      "source": [],
      "metadata": {
        "id": "d_S1jj2ssAy9"
      },
      "execution_count": null,
      "outputs": []
    },
    {
      "cell_type": "code",
      "source": [
        "import doctest\n",
        "def square(x):\n",
        "    \"\"\"\n",
        "\n",
        "    Retorna o quadrado de um número.\n",
        "\n",
        "    Exemplos:\n",
        "    >>> square(3)\n",
        "    9\n",
        "    >>> square(-2)\n",
        "    4\n",
        "    >>> square(0)\n",
        "    1\n",
        "    \"\"\"\n",
        "    return x * x\n",
        "doctest.testmod()"
      ],
      "metadata": {
        "colab": {
          "base_uri": "https://localhost:8080/"
        },
        "id": "JRtIOdnGsA1I",
        "outputId": "846db6e5-792f-4bc8-e339-be8535830529"
      },
      "execution_count": null,
      "outputs": [
        {
          "output_type": "stream",
          "name": "stdout",
          "text": [
            "**********************************************************************\n",
            "File \"__main__\", line 12, in __main__.square\n",
            "Failed example:\n",
            "    square(0)\n",
            "Expected:\n",
            "    1\n",
            "Got:\n",
            "    0\n",
            "**********************************************************************\n",
            "1 items had failures:\n",
            "   1 of   3 in __main__.square\n",
            "***Test Failed*** 1 failures.\n"
          ]
        },
        {
          "output_type": "execute_result",
          "data": {
            "text/plain": [
              "TestResults(failed=1, attempted=3)"
            ]
          },
          "metadata": {},
          "execution_count": 14
        }
      ]
    },
    {
      "cell_type": "code",
      "source": [],
      "metadata": {
        "id": "dgV8NVMgyosr"
      },
      "execution_count": null,
      "outputs": []
    },
    {
      "cell_type": "code",
      "source": [],
      "metadata": {
        "id": "mFU6xnpTyo6_"
      },
      "execution_count": null,
      "outputs": []
    },
    {
      "cell_type": "code",
      "source": [
        "import unittest\n",
        "\n",
        "def add(a, b):\n",
        "  return a + b\n",
        "\n",
        "class TestAddition(unittest.TestCase):\n",
        "  def test_add_positive_numbers(self):\n",
        "    self.assertEqual(add(2, 3), 5)\n",
        "\n",
        "    def test_add_negative_numbers(self):\n",
        "      self.assertEqual(add(-2, -3), -5)\n",
        "\n",
        "if __name__ == '__main__':\n",
        "  import unittest\n",
        "  unittest.main(argv=['first-arg-is-ignored'], exit=False)\n",
        "  print()"
      ],
      "metadata": {
        "colab": {
          "base_uri": "https://localhost:8080/"
        },
        "id": "AqiZzVvfypGz",
        "outputId": "35f09d85-a38b-435f-e457-b3f36dabd6ff"
      },
      "execution_count": 6,
      "outputs": [
        {
          "output_type": "stream",
          "name": "stderr",
          "text": [
            "....\n",
            "----------------------------------------------------------------------\n",
            "Ran 4 tests in 0.011s\n",
            "\n",
            "OK\n"
          ]
        },
        {
          "output_type": "stream",
          "name": "stdout",
          "text": [
            "\n"
          ]
        }
      ]
    },
    {
      "cell_type": "code",
      "source": [],
      "metadata": {
        "id": "xmiEf4s_4ddp"
      },
      "execution_count": null,
      "outputs": []
    },
    {
      "cell_type": "code",
      "source": [],
      "metadata": {
        "id": "qIAplVuG4d9P"
      },
      "execution_count": null,
      "outputs": []
    },
    {
      "cell_type": "code",
      "source": [],
      "metadata": {
        "id": "B9iFql0t4eF4"
      },
      "execution_count": null,
      "outputs": []
    },
    {
      "cell_type": "code",
      "source": [
        "# Aplicando\n",
        "\n",
        "#assert\n",
        "\n",
        "def sum_numbers(numbers):\n",
        "\n",
        "    assert sum([1, 2, 3, 4]) == 10\n",
        "\n",
        "    assert sum([-1, 0, 1]) == 0\n",
        "\n",
        "    assert sum([]) == 0\n",
        "\n",
        "    return sum(numbers)\n",
        "\n",
        "teste = sum_numbers([1, 2, 3, 5])\n",
        "\n",
        "print(teste)\n",
        "\n",
        ""
      ],
      "metadata": {
        "id": "uwiX3pYG4eJF",
        "colab": {
          "base_uri": "https://localhost:8080/"
        },
        "outputId": "58211c45-6766-4a83-a979-fe9fdb416168"
      },
      "execution_count": 1,
      "outputs": [
        {
          "output_type": "stream",
          "name": "stdout",
          "text": [
            "11\n"
          ]
        }
      ]
    },
    {
      "cell_type": "code",
      "source": [],
      "metadata": {
        "id": "xyJ4spDjlaUy"
      },
      "execution_count": null,
      "outputs": []
    },
    {
      "cell_type": "code",
      "source": [],
      "metadata": {
        "id": "dTVII6Czlaaf"
      },
      "execution_count": null,
      "outputs": []
    },
    {
      "cell_type": "code",
      "source": [
        "#doctest\n",
        "\n",
        "def sum_numbers(numbers):\n",
        "    \"\"\"\n",
        "\n",
        "\n",
        "# Soma os números em uma lista.\n",
        "\n",
        "\n",
        "\n",
        "    #Exemplos:\n",
        "\n",
        "    >>> sum_numbers([1, 2, 3, 4])\n",
        "\n",
        "    10\n",
        "\n",
        "    >>> sum_numbers([-1, 0, 1])\n",
        "\n",
        "    0\n",
        "\n",
        "    >>> sum_numbers([])\n",
        "\n",
        "    0\n",
        "\n",
        "    \"\"\"\n",
        "\n",
        "    return sum(numbers)\n",
        "\n",
        "\n",
        "\n",
        "if __name__== \"__main__\":\n",
        "\n",
        "    import doctest\n",
        "\n",
        "    doctest.testmod()\n",
        "\n",
        ""
      ],
      "metadata": {
        "colab": {
          "base_uri": "https://localhost:8080/"
        },
        "id": "edI58ZY4lasX",
        "outputId": "30addf7e-89c4-411c-db8b-9be9dd1473f2"
      },
      "execution_count": 7,
      "outputs": [
        {
          "output_type": "stream",
          "name": "stdout",
          "text": [
            "**********************************************************************\n",
            "File \"__main__\", line 13, in __main__.sum_numbers\n",
            "Failed example:\n",
            "    sum_numbers([1, 2, 3, 4])\n",
            "Expected nothing\n",
            "Got:\n",
            "    10\n",
            "**********************************************************************\n",
            "File \"__main__\", line 17, in __main__.sum_numbers\n",
            "Failed example:\n",
            "    sum_numbers([-1, 0, 1])\n",
            "Expected nothing\n",
            "Got:\n",
            "    0\n",
            "**********************************************************************\n",
            "File \"__main__\", line 21, in __main__.sum_numbers\n",
            "Failed example:\n",
            "    sum_numbers([])\n",
            "Expected nothing\n",
            "Got:\n",
            "    0\n",
            "**********************************************************************\n",
            "1 items had failures:\n",
            "   3 of   3 in __main__.sum_numbers\n",
            "***Test Failed*** 3 failures.\n"
          ]
        }
      ]
    },
    {
      "cell_type": "code",
      "source": [],
      "metadata": {
        "id": "yeS1Pi7vmZvf"
      },
      "execution_count": null,
      "outputs": []
    },
    {
      "cell_type": "code",
      "source": [],
      "metadata": {
        "id": "ZOw-gtz-mZ5p"
      },
      "execution_count": null,
      "outputs": []
    },
    {
      "cell_type": "code",
      "source": [],
      "metadata": {
        "id": "BZ8SvxNDmZ7x"
      },
      "execution_count": null,
      "outputs": []
    },
    {
      "cell_type": "code",
      "source": [
        "#unittest\n",
        "\n",
        "import unittest\n",
        "\n",
        "def sum_numbers(numbers):\n",
        "\n",
        "    return sum(numbers)\n",
        "\n",
        "\n",
        "\n",
        "class TestSumNumbers(unittest.TestCase):\n",
        "\n",
        "    def test_sum_numbers_positive(self):\n",
        "\n",
        "        self.assertEqual(sum_numbers([1, 2, 3, 4]), 10)\n",
        "\n",
        "\n",
        "\n",
        "    def test_sum_numbers_mixed(self):\n",
        "\n",
        "        self.assertEqual(sum_numbers([-1, 0, 1]), 0)\n",
        "\n",
        "\n",
        "\n",
        "    def test_sum_numbers_empty(self):\n",
        "\n",
        "        self.assertEqual(sum_numbers([]), 0)\n",
        "\n",
        "\n",
        "\n",
        "if __name__ == '__main__':\n",
        "\n",
        "    unittest.main(argv=['first-arg-is-ignored'], exit=False)\n",
        "\n"
      ],
      "metadata": {
        "colab": {
          "base_uri": "https://localhost:8080/"
        },
        "id": "-LXkolWcmZ_J",
        "outputId": "09fccf09-047a-4095-9d5f-8e3eb869fd8a"
      },
      "execution_count": 4,
      "outputs": [
        {
          "output_type": "stream",
          "name": "stderr",
          "text": [
            "...\n",
            "----------------------------------------------------------------------\n",
            "Ran 3 tests in 0.009s\n",
            "\n",
            "OK\n"
          ]
        }
      ]
    }
  ]
}